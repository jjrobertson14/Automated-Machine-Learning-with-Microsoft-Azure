{
 "cells": [
  {
   "cell_type": "code",
   "execution_count": null,
   "metadata": {},
   "outputs": [],
   "source": [
    "from azureml.core import Workspace, Dataset, Datastore\n",
    "from azureml.core import Experiment\n",
    "from azureml.core.compute import ComputeTarget\n",
    "from azureml.train.automl import AutoMLConfig\n",
    "from azureml.train.automl.run import AutoMLRun\n",
    "from azureml.widgets import RunDetails\n",
    "\n",
    "import pandas as pd\n",
    "import numpy as np\n",
    "\n",
    "print(\"SDK version:\", azureml.core.VERSION)"
   ]
  },
  {
   "cell_type": "code",
   "execution_count": null,
   "metadata": {},
   "outputs": [],
   "source": [
    "from azureml.core.authentication import InteractiveLoginAuthentication\n",
    "\n",
    "# Get the Workspace object from Azure\n",
    "# You can find tenant id under azure active directory->properties\n",
    "tenant_id = '198c7d8c-e010-45ce-a018-ec2d9a33f58f'\n",
    "ia = InteractiveLoginAuthentication(tenant_id=tenant_id)\n",
    "ws_name = 'automlbook'\n",
    "subscription_id = '4d278f3d-b4fd-4fa2-86b6-d34b96bc888f'\n",
    "resource_group = 'Foxy_Resources'\n",
    "ws = Workspace.get(name=ws_name,\n",
    "                   subscription_id=subscription_id,\n",
    "                   resource_group=resource_group,\n",
    "                   auth=ia)\n",
    "print(ws.name, ws.resource_group, ws.location, ws.subscription_id, sep='\\n')"
   ]
  },
  {
   "cell_type": "code",
   "execution_count": null,
   "metadata": {},
   "outputs": [],
   "source": [
    "# Define Compute Cluster to use\n",
    "compute_target = 'local'"
   ]
  },
  {
   "cell_type": "code",
   "execution_count": null,
   "metadata": {},
   "outputs": [],
   "source": [
    "# Create datastore, try getting datastore via Workspace object\n",
    "datastore = Datastore.get_default(ws)\n",
    "my_datastore_name = 'workspaceblobstore'\n",
    "my_datastore = Datastore.get(ws, my_datastore_name)"
   ]
  },
  {
   "cell_type": "code",
   "execution_count": 2,
   "metadata": {},
   "outputs": [
    {
     "ename": "NameError",
     "evalue": "name 'Dataset' is not defined",
     "output_type": "error",
     "traceback": [
      "\u001b[1;31m---------------------------------------------------------------------------\u001b[0m",
      "\u001b[1;31mNameError\u001b[0m                                 Traceback (most recent call last)",
      "\u001b[1;32mc:\\Users\\johna\\OneDrive\\Dev\\Azure ML\\AutoML Book\\Automated-Machine-Learning-with-Microsoft-Azure\\JJ-Additions\\Local Compute\\Titanic_Classification_AutoML.ipynb Cell 5'\u001b[0m in \u001b[0;36m<cell line: 4>\u001b[1;34m()\u001b[0m\n\u001b[0;32m      <a href='vscode-notebook-cell:/c%3A/Users/johna/OneDrive/Dev/Azure%20ML/AutoML%20Book/Automated-Machine-Learning-with-Microsoft-Azure/JJ-Additions/Local%20Compute/Titanic_Classification_AutoML.ipynb#ch0000004?line=1'>2</a>\u001b[0m dataset_name \u001b[39m=\u001b[39m \u001b[39m'\u001b[39m\u001b[39mautomlbook Titanic Training Data A\u001b[39m\u001b[39m'\u001b[39m\n\u001b[0;32m      <a href='vscode-notebook-cell:/c%3A/Users/johna/OneDrive/Dev/Azure%20ML/AutoML%20Book/Automated-Machine-Learning-with-Microsoft-Azure/JJ-Additions/Local%20Compute/Titanic_Classification_AutoML.ipynb#ch0000004?line=2'>3</a>\u001b[0m \u001b[39m# dataset = Dataset.get_by_name(ws, dataset_name)\u001b[39;00m\n\u001b[1;32m----> <a href='vscode-notebook-cell:/c%3A/Users/johna/OneDrive/Dev/Azure%20ML/AutoML%20Book/Automated-Machine-Learning-with-Microsoft-Azure/JJ-Additions/Local%20Compute/Titanic_Classification_AutoML.ipynb#ch0000004?line=3'>4</a>\u001b[0m dataset \u001b[39m=\u001b[39m Dataset\u001b[39m.\u001b[39mget_by_name(ws, dataset_name, version \u001b[39m=\u001b[39m \u001b[39m'\u001b[39m\u001b[39mlatest\u001b[39m\u001b[39m'\u001b[39m)\n\u001b[0;32m      <a href='vscode-notebook-cell:/c%3A/Users/johna/OneDrive/Dev/Azure%20ML/AutoML%20Book/Automated-Machine-Learning-with-Microsoft-Azure/JJ-Additions/Local%20Compute/Titanic_Classification_AutoML.ipynb#ch0000004?line=5'>6</a>\u001b[0m \u001b[39m# Show a sample of the data in the dataset\u001b[39;00m\n\u001b[0;32m      <a href='vscode-notebook-cell:/c%3A/Users/johna/OneDrive/Dev/Azure%20ML/AutoML%20Book/Automated-Machine-Learning-with-Microsoft-Azure/JJ-Additions/Local%20Compute/Titanic_Classification_AutoML.ipynb#ch0000004?line=6'>7</a>\u001b[0m dataset\u001b[39m.\u001b[39mtake(\u001b[39m10\u001b[39m)\u001b[39m.\u001b[39mto_pandas_dataframe()\n",
      "\u001b[1;31mNameError\u001b[0m: name 'Dataset' is not defined"
     ]
    }
   ],
   "source": [
    "# Create a dataset from the datastore of the Workspace\n",
    "dataset_name = 'automlbook Titanic Training Data A'\n",
    "# dataset = Dataset.get_by_name(ws, dataset_name)\n",
    "dataset = Dataset.get_by_name(ws, dataset_name, version = 'latest')\n",
    "\n",
    "# Show a sample of the data in the dataset\n",
    "dataset.take(10).to_pandas_dataframe()"
   ]
  },
  {
   "cell_type": "code",
   "execution_count": null,
   "metadata": {},
   "outputs": [],
   "source": [
    "# Configure Docker Training\n",
    "\n",
    "# Set the WSL2/Docker environment up\n",
    "docker_env = Environment(\"docker-env\")\n",
    "\n",
    "docker_env.python.user_managed_dependencies = False\n",
    "docker_env.docker.enabled = True\n",
    "\n",
    "# use the default CPU-based Docker image from Azure ML\n",
    "print(docker_env.docker.base_image)\n",
    "\n",
    "# Specify conda dependencies with scikit-learn\n",
    "docker_env.python.conda_dependencies = cd"
   ]
  },
  {
   "cell_type": "code",
   "execution_count": null,
   "metadata": {},
   "outputs": [],
   "source": []
  }
 ],
 "metadata": {
  "interpreter": {
   "hash": "63fd5069d213b44bf678585dea6b12cceca9941eaf7f819626cde1f2670de90d"
  },
  "kernelspec": {
   "display_name": "Python 3.9.0 64-bit",
   "language": "python",
   "name": "python3"
  },
  "language_info": {
   "codemirror_mode": {
    "name": "ipython",
    "version": 3
   },
   "file_extension": ".py",
   "mimetype": "text/x-python",
   "name": "python",
   "nbconvert_exporter": "python",
   "pygments_lexer": "ipython3",
   "version": "3.9.0"
  },
  "orig_nbformat": 4
 },
 "nbformat": 4,
 "nbformat_minor": 2
}
